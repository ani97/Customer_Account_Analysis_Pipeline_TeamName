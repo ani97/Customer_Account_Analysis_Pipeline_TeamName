{
 "cells": [
  {
   "cell_type": "code",
   "execution_count": 0,
   "metadata": {
    "application/vnd.databricks.v1+cell": {
     "cellMetadata": {
      "byteLimit": 2048000,
      "rowLimit": 10000
     },
     "inputWidgets": {},
     "nuid": "db94e479-945c-46b3-a73f-bdbb0211d436",
     "showTitle": false,
     "tableResultSettingsMap": {},
     "title": ""
    }
   },
   "outputs": [],
   "source": [
    "from pyspark.sql.functions import crc32, concat, col\n",
    "from datetime import datetime,timedelta\n",
    "from pyspark.sql.functions import lit,current_timestamp\n",
    "from delta.tables import DeltaTable\n"
   ]
  },
  {
   "cell_type": "code",
   "execution_count": 0,
   "metadata": {
    "application/vnd.databricks.v1+cell": {
     "cellMetadata": {
      "byteLimit": 2048000,
      "rowLimit": 10000
     },
     "inputWidgets": {},
     "nuid": "5f7e472e-6d0d-4d8d-8e05-3b4793ec7e4d",
     "showTitle": false,
     "tableResultSettingsMap": {},
     "title": ""
    }
   },
   "outputs": [],
   "source": [
    "\n",
    "#datepart = (datetime.utcnow() - timedelta(days=1)).strftime(\"%Y/%m/%d\")\n",
    "datepart = (datetime.utcnow()).strftime(\"%Y/%m/%d\")\n",
    "file_types = [\"Accounts\", \"Customers\", \"Loan_Payments\", \"Loans\", \"Transactions\"]\n",
    "\n",
    "base_path = \"/mnt/project2/bronze\"\n",
    "files_found = []\n",
    "\n",
    "for file_type in file_types:\n",
    "    folder_path = f\"{base_path}/{file_type}/{datepart}/\"\n",
    "    \n",
    "    try:\n",
    "        if len(dbutils.fs.ls(folder_path)) > 0:\n",
    "            files_found.append(file_type)\n",
    "    except:\n",
    "        pass  \n",
    "        \n",
    "\n",
    "if len(files_found) == 0:\n",
    "    # raise Exception(f\"No data found.\")\n",
    "    dbutils.notebook.exit( 'No data found')\n",
    "else:\n",
    "    output_str = datepart + \"|\" + \",\".join(files_found)\n",
    "    print(f\"Returning: {output_str}\") \n",
    "    output_str"
   ]
  }
 ],
 "metadata": {
  "application/vnd.databricks.v1+notebook": {
   "computePreferences": null,
   "dashboards": [],
   "environmentMetadata": {
    "base_environment": "",
    "environment_version": "2"
   },
   "inputWidgetPreferences": null,
   "language": "python",
   "notebookMetadata": {
    "pythonIndentUnit": 4
   },
   "notebookName": "Check_new_files",
   "widgets": {}
  },
  "language_info": {
   "name": "python"
  }
 },
 "nbformat": 4,
 "nbformat_minor": 0
}
